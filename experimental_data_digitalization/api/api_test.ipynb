{
 "cells": [
  {
   "cell_type": "markdown",
   "metadata": {},
   "source": [
    "## 0.1 imports"
   ]
  },
  {
   "cell_type": "code",
   "execution_count": 5,
   "metadata": {},
   "outputs": [],
   "source": [
    "import requests\n",
    "import pandas as pd"
   ]
  },
  {
   "cell_type": "code",
   "execution_count": 3,
   "metadata": {},
   "outputs": [
    {
     "data": {
      "text/plain": [
       "[{'format': 'PDF 1.3',\n",
       "  'title': '3D Anionic Silicate Covalent Organic Framework with srs Topology',\n",
       "  'author': 'Oussama Yahiaoui, Andrew N. Fitch, Frank Hoffmann, Michael Fröba, Arne Thomas, and Jérôme Roeser',\n",
       "  'subject': 'J. Am. Chem. Soc. 2018.140:5330-5333',\n",
       "  'keywords': '',\n",
       "  'creator': 'Arbortext Advanced Print Publisher 10.0.1465/W Unicode',\n",
       "  'producer': 'Acrobat Distiller 8.1.0 (Windows); modified using iText 4.2.0 by 1T3XT',\n",
       "  'creationDate': \"D:20180417155615-04'00'\",\n",
       "  'modDate': \"D:20180426045033-04'00'\",\n",
       "  'trapped': '',\n",
       "  'encryption': None},\n",
       " {'format': 'PDF 1.7',\n",
       "  'title': '',\n",
       "  'author': '',\n",
       "  'subject': '',\n",
       "  'keywords': '',\n",
       "  'creator': 'Adobe InDesign CC (Macintosh)',\n",
       "  'producer': 'Adobe PDF Library 11.0',\n",
       "  'creationDate': \"D:20170418142102+01'00'\",\n",
       "  'modDate': \"D:20170504151046+01'00'\",\n",
       "  'trapped': '',\n",
       "  'encryption': None},\n",
       " {'format': 'PDF 1.7',\n",
       "  'title': '',\n",
       "  'author': 'Jerome Roeser',\n",
       "  'subject': '',\n",
       "  'keywords': '',\n",
       "  'creator': 'Microsoft® Word 2016',\n",
       "  'producer': 'Microsoft® Word 2016',\n",
       "  'creationDate': \"D:20180410074548+02'00'\",\n",
       "  'modDate': \"D:20180410074548+02'00'\",\n",
       "  'trapped': '',\n",
       "  'encryption': None},\n",
       " {'format': 'PDF 1.6',\n",
       "  'title': 'Image and data mining in reticular chemistry powered by GPT-4V',\n",
       "  'author': 'Zhiling Zheng',\n",
       "  'subject': 'Digital Discovery (2024), 3, 491-501, doi:10.1039/D3DD00239J',\n",
       "  'keywords': '',\n",
       "  'creator': 'Arbortext Advanced Print Publisher 9.1.510/W Unicode',\n",
       "  'producer': 'Acrobat Distiller 8.1.0 (Windows); modified using iTextSharp™ 5.5.11 ©2000-2017 iText Group NV (AGPL-version)',\n",
       "  'creationDate': \"D:20240309080656+05'30'\",\n",
       "  'modDate': \"D:20240322150149+00'00'\",\n",
       "  'trapped': '',\n",
       "  'encryption': None},\n",
       " {'format': 'PDF 1.6',\n",
       "  'title': '',\n",
       "  'author': 'Microsoft Office User',\n",
       "  'subject': '',\n",
       "  'keywords': '',\n",
       "  'creator': 'Aspose Ltd.',\n",
       "  'producer': 'Aspose.Pdf for .NET 9.3.0',\n",
       "  'creationDate': \"D:20240120110617-05'00'\",\n",
       "  'modDate': 'D:20240202080711',\n",
       "  'trapped': '',\n",
       "  'encryption': None},\n",
       " {'format': 'PDF 1.7',\n",
       "  'title': 'Anionic silicate organic frameworks constructed from hexacoordinate silicon centres',\n",
       "  'author': 'Jérôme Roeser',\n",
       "  'subject': 'Nature Chemistry (2017). doi:10.1038/nchem.2771',\n",
       "  'keywords': '',\n",
       "  'creator': 'Arbortext Advanced Print Publisher 10.0.1465/W Unicode',\n",
       "  'producer': 'Acrobat Distiller 8.1.0 (Windows)',\n",
       "  'creationDate': \"D:20170505164942+05'30'\",\n",
       "  'modDate': \"D:20170508154851+01'00'\",\n",
       "  'trapped': '',\n",
       "  'encryption': None}]"
      ]
     },
     "execution_count": 3,
     "metadata": {},
     "output_type": "execute_result"
    }
   ],
   "source": [
    "BASE_URL = 'http://127.0.0.1:8000'\n",
    "endpoint = \"/metadata\"\n",
    "\n",
    "url_ = f\"{BASE_URL}{endpoint}\"\n",
    "\n",
    "response = requests.get(url_).json()\n",
    "response['metadata']"
   ]
  },
  {
   "cell_type": "code",
   "execution_count": 15,
   "metadata": {},
   "outputs": [
    {
     "data": {
      "text/html": [
       "<div>\n",
       "<style scoped>\n",
       "    .dataframe tbody tr th:only-of-type {\n",
       "        vertical-align: middle;\n",
       "    }\n",
       "\n",
       "    .dataframe tbody tr th {\n",
       "        vertical-align: top;\n",
       "    }\n",
       "\n",
       "    .dataframe thead th {\n",
       "        text-align: right;\n",
       "    }\n",
       "</style>\n",
       "<table border=\"1\" class=\"dataframe\">\n",
       "  <thead>\n",
       "    <tr style=\"text-align: right;\">\n",
       "      <th></th>\n",
       "      <th>0</th>\n",
       "    </tr>\n",
       "  </thead>\n",
       "  <tbody>\n",
       "    <tr>\n",
       "      <th>0</th>\n",
       "      <td>jacs.8b01774.pdf</td>\n",
       "    </tr>\n",
       "    <tr>\n",
       "      <th>1</th>\n",
       "      <td>nchem.2771-s1.pdf</td>\n",
       "    </tr>\n",
       "    <tr>\n",
       "      <th>2</th>\n",
       "      <td>ja8b01774_si_001.pdf</td>\n",
       "    </tr>\n",
       "    <tr>\n",
       "      <th>3</th>\n",
       "      <td>24gpt4v.pdf</td>\n",
       "    </tr>\n",
       "    <tr>\n",
       "      <th>4</th>\n",
       "      <td>d3dd00239j1.pdf</td>\n",
       "    </tr>\n",
       "    <tr>\n",
       "      <th>5</th>\n",
       "      <td>nchem.2771.pdf</td>\n",
       "    </tr>\n",
       "  </tbody>\n",
       "</table>\n",
       "</div>"
      ],
      "text/plain": [
       "                      0\n",
       "0      jacs.8b01774.pdf\n",
       "1     nchem.2771-s1.pdf\n",
       "2  ja8b01774_si_001.pdf\n",
       "3           24gpt4v.pdf\n",
       "4       d3dd00239j1.pdf\n",
       "5        nchem.2771.pdf"
      ]
     },
     "execution_count": 15,
     "metadata": {},
     "output_type": "execute_result"
    }
   ],
   "source": [
    "response = requests.get(f\"{BASE_URL}/file_list\").json()\n",
    "pd.DataFrame(response.values())"
   ]
  },
  {
   "cell_type": "code",
   "execution_count": null,
   "metadata": {},
   "outputs": [],
   "source": []
  }
 ],
 "metadata": {
  "kernelspec": {
   "display_name": "experimental-data-digitalization-KoFsBjW7-py3.12",
   "language": "python",
   "name": "python3"
  },
  "language_info": {
   "codemirror_mode": {
    "name": "ipython",
    "version": 3
   },
   "file_extension": ".py",
   "mimetype": "text/x-python",
   "name": "python",
   "nbconvert_exporter": "python",
   "pygments_lexer": "ipython3",
   "version": "3.12.3"
  }
 },
 "nbformat": 4,
 "nbformat_minor": 2
}
