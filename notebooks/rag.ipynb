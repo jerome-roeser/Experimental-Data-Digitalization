{
 "cells": [
  {
   "cell_type": "markdown",
   "metadata": {},
   "source": [
    "## 0.1 imports "
   ]
  },
  {
   "cell_type": "code",
   "execution_count": 3,
   "metadata": {},
   "outputs": [
    {
     "data": {
      "text/plain": [
       "PosixPath('/home/jerome-roeser/code/jerome-roeser/11-Personal-Projects/git_repos/Experimental-Data-Digitalization/data/pdfs/cofs/nchem.2771.pdf')"
      ]
     },
     "execution_count": 3,
     "metadata": {},
     "output_type": "execute_result"
    }
   ],
   "source": [
    "from langchain_community.document_loaders import PyPDFLoader, PyMuPDFLoader\n",
    "from langchain.text_splitter import RecursiveCharacterTextSplitter\n",
    "from langchain_milvus import Milvus\n",
    "from langchain_community.embeddings import HuggingFaceEmbeddings\n",
    "from langchain import hub\n",
    "from langchain_community.llms import Ollama\n",
    "from langchain_core.runnables import RunnablePassthrough\n",
    "from langchain_core.output_parsers import StrOutputParser\n",
    "\n",
    "from pathlib import Path\n",
    "import os\n",
    "\n",
    "from experimental_data_digitalization.params import *\n",
    "\n",
    "nchem_path = LOCAL_DATA_PATH.joinpath('nchem.2771.pdf')\n",
    "nchem_path"
   ]
  },
  {
   "cell_type": "markdown",
   "metadata": {},
   "source": [
    "`pseudo-code`\n",
    "1. load 1 pdf paper first: nchem SicOF\n",
    "2. load document\n",
    "3. tokenize\n",
    "4. embed\n",
    "5. store in vector DB \n",
    "6. query info with similarity search\n",
    "7. that it? "
   ]
  },
  {
   "cell_type": "markdown",
   "metadata": {},
   "source": [
    "# 1 Website tutorial "
   ]
  },
  {
   "cell_type": "markdown",
   "metadata": {},
   "source": [
    "## 1.1 Preparation (data, embedding)"
   ]
  },
  {
   "cell_type": "code",
   "execution_count": null,
   "metadata": {},
   "outputs": [],
   "source": [
    "!wget https://github.com/milvus-io/milvus-docs/releases/download/v2.4.6-preview/milvus_docs_2.4.x_en.zip\n",
    "!unzip -q milvus_docs_2.4.x_en.zip -d milvus_docs\n"
   ]
  },
  {
   "cell_type": "code",
   "execution_count": 2,
   "metadata": {},
   "outputs": [],
   "source": [
    "from glob import glob\n",
    "\n",
    "text_lines = []\n",
    "\n",
    "for file_path in glob(\"milvus_docs/en/faq/*.md\", recursive=True):\n",
    "    with open(file_path, \"r\") as file:\n",
    "        file_text = file.read()\n",
    "\n",
    "    text_lines += file_text.split(\"# \")"
   ]
  },
  {
   "cell_type": "code",
   "execution_count": 3,
   "metadata": {},
   "outputs": [],
   "source": [
    "from openai import OpenAI\n",
    "\n",
    "openai_client = OpenAI()"
   ]
  },
  {
   "cell_type": "code",
   "execution_count": 4,
   "metadata": {},
   "outputs": [],
   "source": [
    "def emb_text(text):\n",
    "    return (\n",
    "        openai_client.embeddings.create(input=text, model=\"text-embedding-3-small\")\n",
    "        .data[0]\n",
    "        .embedding\n",
    "    )"
   ]
  },
  {
   "cell_type": "code",
   "execution_count": null,
   "metadata": {},
   "outputs": [],
   "source": [
    "test_embedding = emb_text(\"This is a test\")\n",
    "embedding_dim = len(test_embedding)\n",
    "print(embedding_dim)\n",
    "print(test_embedding[:10])"
   ]
  },
  {
   "cell_type": "markdown",
   "metadata": {},
   "source": [
    "## 1.2 Load data into Milvus\n",
    "### Create the Collection"
   ]
  },
  {
   "cell_type": "code",
   "execution_count": null,
   "metadata": {},
   "outputs": [],
   "source": [
    "from pymilvus import MilvusClient\n",
    "\n",
    "milvus_client = MilvusClient(\"milvus_demo.db\")\n",
    "\n",
    "collection_name = \"my_rag_collection\"\n",
    "milvus_client.list_collections()"
   ]
  },
  {
   "cell_type": "code",
   "execution_count": 7,
   "metadata": {},
   "outputs": [],
   "source": [
    "if milvus_client.has_collection(collection_name):\n",
    "    milvus_client.drop_collection(collection_name)"
   ]
  },
  {
   "cell_type": "code",
   "execution_count": 8,
   "metadata": {},
   "outputs": [],
   "source": [
    "milvus_client.create_collection(\n",
    "    collection_name=collection_name,\n",
    "    dimension=embedding_dim,\n",
    "    metric_type=\"IP\",  # Inner product distance\n",
    "    consistency_level=\"Strong\",  # Strong consistency level\n",
    ")"
   ]
  },
  {
   "cell_type": "markdown",
   "metadata": {},
   "source": [
    "### Insert data"
   ]
  },
  {
   "cell_type": "code",
   "execution_count": null,
   "metadata": {},
   "outputs": [],
   "source": [
    "from tqdm import tqdm\n",
    "\n",
    "data = []\n",
    "\n",
    "for i, line in enumerate(tqdm(text_lines, desc=\"Creating embeddings\")):\n",
    "    data.append({\"id\": i, \"vector\": emb_text(line), \"text\": line})\n",
    "\n",
    "milvus_client.insert(collection_name=collection_name, data=data)"
   ]
  },
  {
   "cell_type": "markdown",
   "metadata": {},
   "source": [
    "## 1.3 Build RAG\n",
    "### Retrieve data for a query\n",
    "Let’s specify a frequent question about Milvus."
   ]
  },
  {
   "cell_type": "code",
   "execution_count": 10,
   "metadata": {},
   "outputs": [],
   "source": [
    "question = \"How is data stored in milvus?\"\n"
   ]
  },
  {
   "cell_type": "code",
   "execution_count": 11,
   "metadata": {},
   "outputs": [],
   "source": [
    "search_res = milvus_client.search(\n",
    "    collection_name=collection_name,\n",
    "    data=[\n",
    "        emb_text(question)\n",
    "    ],  # Use the `emb_text` function to convert the question to an embedding vector\n",
    "    limit=3,  # Return top 3 results\n",
    "    search_params={\"metric_type\": \"IP\", \"params\": {}},  # Inner product distance\n",
    "    output_fields=[\"text\"],  # Return the text field\n",
    ")"
   ]
  },
  {
   "cell_type": "code",
   "execution_count": null,
   "metadata": {},
   "outputs": [],
   "source": [
    "import json\n",
    "\n",
    "retrieved_lines_with_distances = [\n",
    "    (res[\"entity\"][\"text\"], res[\"distance\"]) for res in search_res[0]\n",
    "]\n",
    "print(json.dumps(retrieved_lines_with_distances, indent=4))\n"
   ]
  },
  {
   "cell_type": "markdown",
   "metadata": {},
   "source": [
    "## 1.3 Use LLM to get a RAG response\n",
    "### Convert the retrieved documents into a string format."
   ]
  },
  {
   "cell_type": "code",
   "execution_count": 14,
   "metadata": {},
   "outputs": [],
   "source": [
    "context = \"\\n\".join(\n",
    "    [line_with_distance[0] for line_with_distance in retrieved_lines_with_distances]\n",
    ")"
   ]
  },
  {
   "cell_type": "code",
   "execution_count": 15,
   "metadata": {},
   "outputs": [],
   "source": [
    "SYSTEM_PROMPT = \"\"\"\n",
    "Human: You are an AI assistant. You are able to find answers to the questions from the contextual passage snippets provided.\n",
    "\"\"\"\n",
    "USER_PROMPT = f\"\"\"\n",
    "Use the following pieces of information enclosed in <context> tags to provide an answer to the question enclosed in <question> tags.\n",
    "<context>\n",
    "{context}\n",
    "</context>\n",
    "<question>\n",
    "{question}\n",
    "</question>\n",
    "\"\"\"\n"
   ]
  },
  {
   "cell_type": "code",
   "execution_count": null,
   "metadata": {},
   "outputs": [],
   "source": [
    "response = openai_client.chat.completions.create(\n",
    "    model=\"gpt-3.5-turbo\",\n",
    "    messages=[\n",
    "        {\"role\": \"system\", \"content\": SYSTEM_PROMPT},\n",
    "        {\"role\": \"user\", \"content\": USER_PROMPT},\n",
    "    ],\n",
    ")\n",
    "print(response.choices[0].message.content)\n"
   ]
  },
  {
   "cell_type": "markdown",
   "metadata": {},
   "source": [
    "# 2. RAG with PDF paper"
   ]
  },
  {
   "cell_type": "code",
   "execution_count": 6,
   "metadata": {},
   "outputs": [
    {
     "data": {
      "text/plain": [
       "['digitalization']"
      ]
     },
     "execution_count": 6,
     "metadata": {},
     "output_type": "execute_result"
    }
   ],
   "source": [
    "from pymilvus import MilvusClient\n",
    "\n",
    "client = MilvusClient('milvus_demo.db')\n",
    "client.list_collections()"
   ]
  },
  {
   "cell_type": "code",
   "execution_count": 7,
   "metadata": {},
   "outputs": [
    {
     "data": {
      "text/plain": [
       "[Document(metadata={'source': '/home/jerome-roeser/code/jerome-roeser/11-Personal-Projects/git_repos/Experimental-Data-Digitalization/data/pdfs/cofs/nchem.2771.pdf', 'file_path': '/home/jerome-roeser/code/jerome-roeser/11-Personal-Projects/git_repos/Experimental-Data-Digitalization/data/pdfs/cofs/nchem.2771.pdf', 'page': 0, 'total_pages': 7, 'format': 'PDF 1.7', 'title': 'Anionic silicate organic frameworks constructed from hexacoordinate silicon centres', 'author': 'Jérôme Roeser', 'subject': 'Nature Chemistry (2017). doi:10.1038/nchem.2771', 'keywords': '', 'creator': 'Arbortext Advanced Print Publisher 10.0.1465/W Unicode', 'producer': 'Acrobat Distiller 8.1.0 (Windows)', 'creationDate': \"D:20170505164942+05'30'\", 'modDate': \"D:20170508154851+01'00'\", 'trapped': ''}, page_content='Anionic silicate organic frameworks constructed\\nfrom hexacoordinate silicon centres\\nJérôme Roeser1*, Dragica Prill2, Michael J. Bojdys3,4, Pierre Fayon5, Abbie Trewin5, Andrew N. Fitch6,\\nMartin U. Schmidt2 and Arne Thomas1*\\nCrystalline frameworks composed of hexacoordinate silicon species have thus far only been observed in a few high pressure\\nsilicate phases. By implementing reversible Si–O chemistry for the crystallization of covalent organic frameworks, we\\ndemonstrate the simple one-pot synthesis of silicate organic frameworks based on octahedral dianionic SiO6 building units.\\nClear evidence of the hexacoordinate environment around the silicon atoms is given by 29Si nuclear magnetic resonance\\nanalysis. Characterization by high-resolution powder X-ray diffraction, density functional theory calculation and analysis of\\nthe pair-distribution function showed that those anionic frameworks—M2[Si(C16H10O4)1.5], where M = Li, Na, K and C16H10O4\\nis 9,10-dimethylanthracene-2,3,6,7-tetraolate—crystallize as two-dimensional hexagonal layers stabilized in a fully eclipsed\\nstacking arrangement with pronounced disorder in the stacking direction. Permanent microporosity with high surface area\\n(up to 1,276 m2 g−1) was evidenced by gas-sorption measurements. The negatively charged backbone balanced with extra-\\nframework cations and the permanent microporosity are characteristics that are shared with zeolites.\\nI\\nn silicate materials, silicon sites almost exclusively adopt a tetrahe-\\ndral coordination with respect to oxygen and reports of silicates\\ncontaining hypercoordinate, that is, penta- or hexacoordinate\\nsilicon are very rare. Silicate glasses can contain silicon coordinated\\nto ﬁve or even six oxygen atoms, but four-coordinate silicon sites\\nremain by far the most common. Among crystalline silicate\\nmaterials, hexaoxosilicon centres have only been reported for a\\nfew compounds that form in high-pressure phases, such as the silica\\npolymorph stishovite1. In molecular compounds however, the for-\\nmation of hypervalent silicon species is more often observed and\\ntheir structure and formation have been widely studied2. Notably,\\nit is known that such species can form on dissolution of silica\\nunder alkaline conditions with aliphatic or aromatic polyols3–5.\\nThe formation of silicates is reversible under such conditions, and\\ndimeric penta-coordinate silicon glycolates have been observed as\\nintermediates in the non-aqueous formation of crystalline materials\\nsuch as sodalite zeolites. It was additionally demonstrated that these\\nzeolites also formed starting from this unusual silicon source6.\\nFurthermore, stable hexacoordinate silicon species were reported\\nto form in aqueous and physiological conditions in the presence\\nof aliphatic sugars and siderophores, respectively7,8. In such com-\\npounds the silicon centres adopt an octahedral geometry with six\\ncoordinating oxygen atoms forming a dianionic SiO6 building\\nunit where the negative charges are balanced by cations such\\nas sodium.\\nIt has been illustrated that predetermined crystalline frameworks,\\nwith extended 2D or 3D structures, can be rationally built using the\\ndesign principles of reticular chemistry by a judicious choice of build-\\ning blocks and reaction conditions where the criteriafor rigidity, direc-\\ntionalityand reversibilityare simultaneously met9. This strategy is now\\ncommonly implemented for the design and synthesis of covalent\\norganicframeworks (COFs),which are 2D and 3D organiccrystals fea-\\nturing permanent porosity and low densities10–12. Those crystalline\\nstructures have so far been obtained by condensation reactions\\nbased on the reversible formation of B–O, C–N or B–N bonds into\\neither planar heterocycles (forexample, boroxine, boronateesters,tria-\\nzine, borazine, squaraine, succinimide) or planar unsaturated func-\\ntional groups (imine, hydrazone, azine)12. In theory, crystalline\\nframeworks can also be built from anionic SiO6 building blocks and\\na suitable linking group, but the synthesis of such extended crystalline\\nstructures from a single atom and organic building blocks remains\\nchallenging due to a lack of directionality and stability, which often\\nresult in poor control over the structure formation and structural col-\\nlapse upon guest removal13,14. We were thus intrigued whether\\nextended crystalline structures based on hypervalent silicon can be\\naccessed. Condensed networks containing hexacoordinate silicon as\\nan integral component of the polymer main chain have been reported\\nbut did not show any crystalline order15.\\nWe report a simple synthetic procedure for the crystallization of\\nhexacoordinate silicon with organic building blocks (which we refer\\nto as SiCOF for silicate covalent organic frameworks) utilizing\\nreversible Si–O bond formation. Based on the formation of a dis-\\ncrete model compound, our strategy for the synthesis of SiCOF is\\nto exploit the ability of silicon to form an anionic octahedral silicate\\ncompound in presence of bidentate catechols under basic con-\\nditions (Fig. 1a).\\nBy\\nextending\\nthis\\nreaction\\nto\\n9,10-dimethyl-2,3,6,7-tetra-\\nhydroxyanthracene (DMTHA), negatively charged crystalline-\\nordered structures can form (Fig. 1b). Although they do not\\nadopt a\\nzeolitic\\ntopology, such\\nframeworks\\nshare\\nessential\\ncharacteristics with purely inorganic zeolites, as they are micro-\\nporous silicon-based crystalline materials, composed of an anionic\\nframework balanced with extra-framework cations. We believe\\nthis new type of microporous crystalline framework has great poten-\\ntial to extend the range of structures and properties in the ﬁeld\\nof COFs due the introduction of a new type of linkage as well as\\n1Department of Chemistry, Technische Universität Berlin, BA2, Hardenbergstraße 40, 10623 Berlin, Germany.\\n2Institute of Inorganic and Analytical\\nChemistry, Goethe University, Max-von-Laue-Str. 7, 60438 Frankfurt am Main, Germany.\\n3Faculty of Science, Department of Organic Chemistry, Charles\\nUniversity in Prague, Hlavova 8, 128 43 Prague 2, Czech Republic.\\n4Institute of Organic Chemistry and Biochemistry ASCR, v.v.i., Flemingovo nám. 2, 166 10\\nPrague 6, Czech Republic.\\n5Department of Chemistry, Lancaster University, Bailrigg, Lancaster LA1 4YB, UK.\\n6European Synchrotron Radiation Facility,\\nCS40220, 38043 Grenoble Cedex 9, France. *e-mail: jerome.roeser@tu-berlin.de; arne.thomas@tu-berlin.de\\nARTICLES\\nPUBLISHED ONLINE: 1 MAY 2017 | DOI: 10.1038/NCHEM.2771\\nNATURE CHEMISTRY | ADVANCE ONLINE PUBLICATION | www.nature.com/naturechemistry\\n1\\n© 2017 Macmillan Publishers Limited, part of Springer Nature. All rights reserved.\\n'),\n",
       " Document(metadata={'source': '/home/jerome-roeser/code/jerome-roeser/11-Personal-Projects/git_repos/Experimental-Data-Digitalization/data/pdfs/cofs/nchem.2771.pdf', 'file_path': '/home/jerome-roeser/code/jerome-roeser/11-Personal-Projects/git_repos/Experimental-Data-Digitalization/data/pdfs/cofs/nchem.2771.pdf', 'page': 1, 'total_pages': 7, 'format': 'PDF 1.7', 'title': 'Anionic silicate organic frameworks constructed from hexacoordinate silicon centres', 'author': 'Jérôme Roeser', 'subject': 'Nature Chemistry (2017). doi:10.1038/nchem.2771', 'keywords': '', 'creator': 'Arbortext Advanced Print Publisher 10.0.1465/W Unicode', 'producer': 'Acrobat Distiller 8.1.0 (Windows)', 'creationDate': \"D:20170505164942+05'30'\", 'modDate': \"D:20170508154851+01'00'\", 'trapped': ''}, page_content='by combining properties of zeolite silicates (negatively charged\\nframeworks) and crystalline organic materials.\\nResults and discussion\\nThe synthesis of negatively charged SiCOF networks with alkali-\\nmetal counter-ions (Li, Na, K) was carried out in a simple one-\\npot procedure by condensation in methanol of DMTHA and a\\nsilicon source (tetramethyl orthosilicate (TMOS) or silica gel) in\\nthe presence of the appropriate alkali-metal methoxide base. The\\nreactions were typically carried out under autogenous pressure in\\na Teﬂon-lined steel autoclave at 180 °C for four days. After the reac-\\ntion, light-brown precipitates were collected by ﬁltration and\\nobtained in nearly quantitative (87–97%) yields (Supplementary\\nSection 2). Pure, solvent-free SiCOFs were obtained after activation\\nby solvent exchange with anhydrous acetone followed by a drying\\nstep under high vacuum at room temperature.\\nThe completion of the reaction and the structural integrity of the\\nnetworks through the formation of octahedral silicate anions were\\nassessed by Fourier transform infrared (FTIR) and cross-polarization\\nmagic-angle-spinning nuclear magnetic resonance (CP-MAS NMR)\\nspectroscopies (Supplementary Figs 1–10). FTIR spectra of the\\nSiCOFs contained strongly attenuated O–H stretching bands\\n(3,200–3,600 cm−1) indicative of successful condensation of the reac-\\ntants. Moreover, a new band at 665 cm−1 appeared in the spectrum\\nof SiCOF, which we\\nassigned to the Si–O stretching mode in a\\nhexacoordinate silicate compound (Supplementary Fig. 6)16. Clear\\nindication of the structural integrity of the network was given by\\nCP-MAS NMR analysis. One single peak at −143 ppm was observed\\nin the 29Si spectrum, indicative of one single type of silicon within\\nthe network (Fig. 2a). This chemical shift is a good match with\\nthe one observed for the synthesized discrete model compound\\n(Fig. 1a) and deviates signiﬁcantly from the 29Si signal of the starting\\nTMOS (−79 ppm) or silica gel. Such values are characteristic for the\\nhexacoordinate state of anionic silicon and prove the coordination of\\nthree anthracene moieties around each silicon atom with no sign of\\ndefect or incomplete coordination within the entire network17.\\nFurthermore, the 13C CP-MAS NMR spectrum exhibited all the\\nexpected peaks and gives further evidence of the structural integrity\\nof the framework (Supplementary Fig. 9). NMR analyses also gave an\\nindication of the kinetics of the network formation as defect-free\\nSiCOFs could only be obtained after four days at 180 °C, otherwise\\nan additional signal assigned to pentacoordinate silicon was\\nsystematically observed (Supplementary Fig. 11).\\nThe presence of Li and Na was conﬁrmed by the observation\\nof a single peak at −24 ppm in the 23Na MAS NMR spectrum of\\nSiCOF–Na and of a single peak at −1 ppm in the 7Li MAS NMR\\nspectrum of SiCOF-Li, respectively (Supplementary Fig. 10).\\nThe presence of Na and K in a M/Si ratio of 2 (M = Na, K) was\\nestablished\\nby\\nenergy-dispersive\\nX-ray\\n(EDX)\\nspectroscopy\\n(Supplementary Figs 12,13). Finally, inductively coupled plasma\\natomic emission spectroscopy (ICP-AES) and compositional\\nanalysis\\nconﬁrmed\\nthe\\ntheoretical\\nchemical\\ncomposition\\nof\\nM2[Si(C16H10O4)1.5] (M = Li, Na, K) and corroborate the formation\\nof a negatively charged organic backbone compensated with\\nextra-framework cations (Supplementary Section 2). The architectural\\nstability of the SiCOFs was evaluated by thermal gravimetric analysis\\nb\\nTMOS or SiO2\\nMOMe/MeOH\\n(M = Li, Na, K)\\n180 °C, 4 days\\n2M+\\nO\\nO\\nO\\nO\\nO\\nO\\nSi\\nO\\nO\\nO O\\nO\\nO\\nSi\\nO\\nO\\nO\\nO\\nO\\nO\\nSi\\nO\\nO\\nO\\nO\\nO\\nO\\nSi\\nO\\nO\\nO O\\nO\\nO\\nSi\\nO\\nO\\nO\\nO\\nO\\nO\\nSi\\nO\\nO\\nO O\\nO\\nO\\nSi\\nO\\nO\\nO\\nO\\nO\\nO\\nSi\\nO\\nO\\nO\\nO\\nO\\nO\\nSi\\nO\\nO\\nO O\\nO\\nO\\nSi\\nO\\nO\\nO\\nO\\nO\\nO\\nSi\\nHO\\nOH\\nOH\\nHO\\nTMOS or SiO2\\nMOMe/MeOH\\n(M = Li, Na, K)\\n60 °C, 1 h\\nOH\\nOH\\n4M+\\n4M+\\n2–\\n2–\\n2–\\n2–\\n2–\\n2–\\n2–\\n2–\\n2–\\n2–\\n2–\\na\\nFigure 1 | Synthesis of anionic silicate organic framework by reversible Si–O chemistry. a, Model condensation reaction of catechol and TMOS or SiO2\\nused to form discrete model compounds. b, Framework formation by extending the reaction to DMTHA.\\nARTICLES\\nNATURE CHEMISTRY DOI: 10.1038/NCHEM.2771\\nNATURE CHEMISTRY | ADVANCE ONLINE PUBLICATION | www.nature.com/naturechemistry\\n2\\n© 2017 Macmillan Publishers Limited, part of Springer Nature. All rights reserved.\\n'),\n",
       " Document(metadata={'source': '/home/jerome-roeser/code/jerome-roeser/11-Personal-Projects/git_repos/Experimental-Data-Digitalization/data/pdfs/cofs/nchem.2771.pdf', 'file_path': '/home/jerome-roeser/code/jerome-roeser/11-Personal-Projects/git_repos/Experimental-Data-Digitalization/data/pdfs/cofs/nchem.2771.pdf', 'page': 2, 'total_pages': 7, 'format': 'PDF 1.7', 'title': 'Anionic silicate organic frameworks constructed from hexacoordinate silicon centres', 'author': 'Jérôme Roeser', 'subject': 'Nature Chemistry (2017). doi:10.1038/nchem.2771', 'keywords': '', 'creator': 'Arbortext Advanced Print Publisher 10.0.1465/W Unicode', 'producer': 'Acrobat Distiller 8.1.0 (Windows)', 'creationDate': \"D:20170505164942+05'30'\", 'modDate': \"D:20170508154851+01'00'\", 'trapped': ''}, page_content='(TGA) (Supplementary Fig. 17). The TGA curves showed a ﬁrst\\nweight loss at 150 °C for SiCOF–Li and SiCOF–Na and 100 °C for\\nSiCOF–K, which can be attributed to the evaporation of entrapped\\nsolvent molecules. However, a further gradual weight loss was\\nobserved until 550 °C where the networks start to decompose. It\\nshould also be noted that even though the networks are stable\\nunder dry conditions for several months they are instable in water\\nor under humid conditions.\\nFrom a topological point of view, the networks can be simpliﬁed\\nas three-connected nets with the nodes assigned as the central\\nsilicon atoms of the octahedral anions and the anthracenes acting\\nas links. Thus, two distinct crystallographic systems can be\\na\\nb\\nc\\nd\\ne\\n20,000× 20 kV 2 mm\\n20 nm\\n1 μm\\nf\\n0\\n0\\n10\\n20\\n30\\n40\\nr (Å)\\nG(r) (a.u.)\\n50\\n60\\n70\\n80\\n90\\n100\\n–50\\n–100\\n–150\\n–200\\n–300\\n0.25\\n0.50\\n0.75\\n1.00\\n2.00\\n1.25\\n1.75\\n1.50\\n–250\\nChemical shift (ppm)\\nQ = 4πsin(θ)/λ (Å–1)\\nFigure 2 | Physical characterization of the hexacoordinate state of silicon within the network and of the crystallinity of SiCOF. a, Comparison of the 29Si\\nCP-MAS solid-state NMR spectra of SiCOF (top) and the model compound (bottom) proves that solely hexacoordinate silicon species are present within the\\nframework. b, High-resolution powder X-ray analysis of SiCOF–Li with the observed pattern in black (λ = 0.399977 Å), the Pawley reﬁned proﬁle in red, the\\ndifference plot in blue, and Bragg peak positions in green (Rwp = 4.40%). c, Experimental pair-distribution function (PDF), G(r), curve of SiCOF-Li (black\\ncurve) compared to the simulated PDF curves of SiCOF–Li assuming eclipsed (blue) and staggered (red) stacking arrangements. d, Crystallographic unit cell\\nof the fully eclipsed framework (a = 21.25(2) Å, c = 4.620(10) Å, space group P\\x0131m). e, SEM image of SiCOF–Li showing the formation of uniform platelets.\\nf, TEM image and corresponding fast Fourier transformation.\\nNATURE CHEMISTRY DOI: 10.1038/NCHEM.2771\\nARTICLES\\nNATURE CHEMISTRY | ADVANCE ONLINE PUBLICATION | www.nature.com/naturechemistry\\n3\\n© 2017 Macmillan Publishers Limited, part of Springer Nature. All rights reserved.\\n'),\n",
       " Document(metadata={'source': '/home/jerome-roeser/code/jerome-roeser/11-Personal-Projects/git_repos/Experimental-Data-Digitalization/data/pdfs/cofs/nchem.2771.pdf', 'file_path': '/home/jerome-roeser/code/jerome-roeser/11-Personal-Projects/git_repos/Experimental-Data-Digitalization/data/pdfs/cofs/nchem.2771.pdf', 'page': 3, 'total_pages': 7, 'format': 'PDF 1.7', 'title': 'Anionic silicate organic frameworks constructed from hexacoordinate silicon centres', 'author': 'Jérôme Roeser', 'subject': 'Nature Chemistry (2017). doi:10.1038/nchem.2771', 'keywords': '', 'creator': 'Arbortext Advanced Print Publisher 10.0.1465/W Unicode', 'producer': 'Acrobat Distiller 8.1.0 (Windows)', 'creationDate': \"D:20170505164942+05'30'\", 'modDate': \"D:20170508154851+01'00'\", 'trapped': ''}, page_content='anticipated as such nets can in principle assemble into 2D honey-\\ncomb layered structures or into 3D networks, described in the\\nReticular Chemistry Structure Resource (RCSR) database with\\nletter codes hcb and srs, respectively18. Here, the topology will be\\ndetermined by the absolute conﬁguration of the generated anions\\nduring the course of the reaction. Indeed, the octahedral geometry\\nof hexacoordinate silicon allows the formation of chiral anions by\\ncomplexation of a central silicon atom with three identical bidentate\\nligands. These compounds exist as Λ or Δ enantiomers with left- or\\nright-handed propeller shapes, respectively. The octahedral silicon\\nnodes within a network can therefore be enantiomerically pure\\n(solely composed of Λ or Δ enantiomers) or form as a racemate\\nof both enantiomers. Fragment models of the three isomeric\\nforms for two fully complexed octahedral silicon nodes linked\\nthrough a central anthracenic edge (Si2(DMTHA)5 dimer) were\\ngenerated using the Material Studio Modelling 5.0 package and\\ntheir geometry optimized using the Forcite module and Dreiding\\nforceﬁeld19,20. The geometry of the models was further optimized\\nusing NWChem 6.1 with the 6-311G basis set and B3LYP functional\\nand incorporating the Grimme dispersion correction (DFT-D)21,22.\\nThe racemic dimer adopts a C2h symmetry with the centres of the\\nfour terminal anthracene edges located in a same plane whereas\\nthe enantiopure dimers adopt a D2 symmetry with the four points\\nof\\nextension\\ndeﬁning\\na\\ndistorted\\ntetrahedra\\n(Supplementary\\nFig. 18). Consequently the frameworks will extend into a hexagonal\\nlayered 2D topology when nets composed of racemic anions are\\nformed, or into 3D srs topology when nets composed of enantiopure\\nanions are generated during the course of the reaction.\\nThe crystallinity of the frameworks was assessed by powder X-ray\\ndiffraction analysis (PXRD, Cu Kα radiation) as attempts to grow\\nsingle crystals proved to be unsuccessful. Sharp diffraction peaks\\nthat could not be attributed to the starting monomers are observed\\nin the low-angle region of the PXRD patterns and conﬁrmed the\\ncrystalline nature of the SiCOF networks. The PXRD patterns of\\nthe compounds with Li, Na and K as counter-ions reveal that the\\nthree compounds are isostructural (Supplementary Fig. 19).\\nSiCOF–Li notably shows the highest degree of crystallinity. For\\nstructural elucidation the PXRD diffraction pattern of SiCOF–Li\\nwas carefully remeasured using a high-resolution synchrotron radi-\\nation source (λ = 0.399977 Å, ID22 beamline, ESRF). The PXRD\\npattern of SiCOF–Li contains ﬁve intense, sharp reﬂections and\\nseveral weak broad reﬂections (Fig. 2b) suggesting the formation\\nof a 2D layered material.\\nFinding the framework topology and stacking order of a 2D\\nlayered material is intrinsically challenging since two packing\\narrangements based on the hexagonal layered hcb topology are con-\\nceivable: eclipsed and staggered. We generated 2D models based on\\nthese possible packing motifs in silico as initial, educated guesses\\nand compared their diffraction patterns to the experimental\\ndata (Supplementary Figs 20,21). The fully eclipsed model was con-\\nstructed in the P\\x0131m space group (no. 162) with SiO6 nodes sitting\\non top of one another and in-plane hexagonal windows stacking up\\nto form 1D pore channels. In this space group, the Si atoms are situ-\\nated on positions with symmetry 312 (D3), and the anthracene edges\\nare positioned on 2/m (C2h) sites. Due to the octahedral coordi-\\nnation geometry around the silicon centre, the aromatic planes of\\nadjacent anthracene linkers are not co-planar but are alternatively\\ntilted by 42° and a −42° angles relative to the horizontal layer\\nplane. The staggered model was generated in the space group\\nP312 (no. 149) with SiO6 nodes lying above and below the centre\\nof the hexagonal windows from neighbouring layers. A number of\\nadditional, conceivable 2D nets accommodating penta- and hepta-\\ngonal pores and 3D networks with different degrees of interpenetra-\\ntion were also generated (Supplementary Figs 22–24). After a\\ngeometrical energy minimization of the structural models, diffrac-\\ntion patterns were simulated and compared with the experimental\\ndiffraction patterns. A very good match was found between the\\nsimulated PXRD pattern for the fully eclipsed hcb model and the\\nexperimental pattern whereas the other generated models do not\\nshow a match to the experimental pattern (Supplementary Figs\\n25–27). A full proﬁle Pawley ﬁtting was then carried out to reﬁne\\nthe ﬁnal unit cell parameters (a = 21.25(2) and c = 4.620(10) Å)\\nleading to satisfactorily low residuals values of Rwp = 4.40% and a\\nsmooth difference curve (Fig. 2b).\\nThe optimized sheet stacking arrangement and local molecular\\narrangement was evaluated by dispersion corrected DFT (DFT-D)\\ncalculations to gain insight on possible stacking disorder of the\\nlayers. Layer slippage with small lateral shifts between adjacent\\nlayers (inclined or serrated) is often described as energetically\\nmore favourable than a fully eclipsed stacking sequence for related\\n2D materials23. In the present case however, the fully eclipsed struc-\\nture appears to be signiﬁcantly more energetically favourable than\\nstacking structures with small lateral shifts. Notably the DFT calcu-\\nlations resulted in an ordered structure with alternating Li+ and\\n(SiO6)2−motifs that lock the layers in an eclipsed conﬁguration in\\norder to balance the charges between the negatively charged\\nnodes. The propeller-shaped nodes further stabilize an eclipsed con-\\nﬁguration as already described for highly crystalline COFs with\\nanother type of propeller-shaped nodes24.\\nAlthough DFT-D simulations seem to indicate a fully eclipsed\\narrangement of 2D hexagonal layers, a close inspection of the\\nPXRD reveals that the hexagonal layers show a stacking disorder:\\nthe ﬁrst two reﬂections show a tail towards higher diffraction\\nangles. These so-called Warren peak shapes25 indicate diffuse scat-\\ntering in the c* direction (the stacking direction), which is a\\nstrong indication of a stacking disorder of the layers. Also the\\nsevere broadening of all hkl reﬂections with l ≠0 points to either a\\nsmall domain size in stacking direction, or pronounced stacking\\ndisorder, or a combination of both effects.\\nTo get more insight into the layer stacking, we measured and\\nanalysed the pair-distribution function (PDF). The PDF, also\\nknown as the radial distribution function, gives the probability to\\nﬁnd pairs of atoms separated by a distance r. The PDF is weighted\\nby the scattering power of the atoms and summed over all atoms.\\nExperimentally, the PDF is obtained by a Fourier transformation\\nof the intensities of the total scattering from a carefully measured\\nX-ray powder diagram after background subtraction and normaliza-\\ntion. A high-energy pattern of SiCOF–Li suitable for PDF analysis\\nwas measured using a synchrotron radiation source with a wave-\\nlength of λ = 0.177005 Å (ID22 beamline, ESRF). The most remark-\\nable feature is a broad overall sine wave with the ﬁrst maximum at\\nabout 21 Å (Fig. 2c). The simulated PDF curve of the hcb structure\\nwith eclipsed stacking nicely reproduces this broad sine wave. The\\nmaximum at about 21 Å corresponds to the pore diameter. There\\nare many cross-ring atom–atom distances of about 20–23 Å.\\nCorrespondingly these distances have a high probability, resulting\\nin a broad maximum of the PDF curve. A slight lateral shift of\\nthe layers does not change the simulated PDF curve signiﬁcantly,\\nwhereas the hcb structure with staggered stacking sequence results\\nin a strongly deviating PDF curve (Fig. 2c; Supplementary Fig. 30).\\nIn principle, crystal structures of organic compounds can be reﬁned\\nto the PDF curve, as it has recently been shown26,27. However, the\\nmethod is still in development, and a PDF reﬁnement of a SiCOF\\nstructure is at present beyond the limitations.\\nWe investigated the SiCOF by transmission electron microscopy\\n(TEM) in order to gain insight into direct space information. Such\\nimages were used to facilitate the structure solution of related\\nmaterials28,29. Unfortunately, the high intensity of the electron\\nbeam leads to rapid amorphization of the SiCOF and only an\\napproximate pore structure could be observed with this technique\\n(Fig. 2f). HR-TEM images and corresponding fast Fourier trans-\\nformation (FFT) demonstrate the crystallinity of the material, the\\nARTICLES\\nNATURE CHEMISTRY DOI: 10.1038/NCHEM.2771\\nNATURE CHEMISTRY | ADVANCE ONLINE PUBLICATION | www.nature.com/naturechemistry\\n4\\n© 2017 Macmillan Publishers Limited, part of Springer Nature. All rights reserved.\\n'),\n",
       " Document(metadata={'source': '/home/jerome-roeser/code/jerome-roeser/11-Personal-Projects/git_repos/Experimental-Data-Digitalization/data/pdfs/cofs/nchem.2771.pdf', 'file_path': '/home/jerome-roeser/code/jerome-roeser/11-Personal-Projects/git_repos/Experimental-Data-Digitalization/data/pdfs/cofs/nchem.2771.pdf', 'page': 4, 'total_pages': 7, 'format': 'PDF 1.7', 'title': 'Anionic silicate organic frameworks constructed from hexacoordinate silicon centres', 'author': 'Jérôme Roeser', 'subject': 'Nature Chemistry (2017). doi:10.1038/nchem.2771', 'keywords': '', 'creator': 'Arbortext Advanced Print Publisher 10.0.1465/W Unicode', 'producer': 'Acrobat Distiller 8.1.0 (Windows)', 'creationDate': \"D:20170505164942+05'30'\", 'modDate': \"D:20170508154851+01'00'\", 'trapped': ''}, page_content='calculated lattice distance of 1.82–1.84 nm corresponding to the\\n(100) diffraction plane of the SiCOF unit cell could be identiﬁed\\nand matched well with the distance extracted from the high-resol-\\nution PXRD data. Unfortunately, no satisfactory oriented ‘in zone’\\nelectron diffraction pattern could be recorded to gain further infor-\\nmation on the stacking of the hexagonal layers.\\nThe permanent porosity was evaluated by low-pressure nitrogen\\n(N2) and argon (Ar) sorption studies on evacuated samples of\\nSiCOF at 77 and 87 K, respectively (Fig. 3a and Supplementary\\nFigs 31–39). All SiCOFs exhibited a high uptake at low relative\\npressures (P/P0; P, gas pressure; P0, saturation pressure) indicative\\nof abundant microporosity. The N2 apparent surface area (SBET)\\nwas calculated from the Brunauer–Emmett–Teller (BET) model\\nby selecting adsorption points satisfying the consistency criteria\\nfor application of the BET theory30. The SBET were calculated to\\nbe 1,153, 1,276 and 1,067 m2 g−1 for SiCOF–Li, SiCOF–Na and\\nSiCOF–K synthesized from silica gel, respectively. Such values are\\nrelatively high if we take into consideration the high amount of\\ncounter-ions located inside the framework. Calculation of solvent-\\naccessible surface area (using a probe radius of 1.82 Å) of the\\nguest free model gave a value of 1,794 m2 g−1. The incorporation\\nof stoichiometric amounts of extra-framework cations within the\\npore structure eclipsed model resulted in a lower surface area of\\n1,510 m2 g−1. Thus, the measured surface areas suggest that the syn-\\nthesized SiCOFs could nearly reach their maximum theoretical\\nuptake. The pore size distributions were calculated from the Ar\\nadsorption data using a non-local density functional theory\\n(NLDFT) model and revealed an apparent bimodal pore size distri-\\nbution with pore diameters centred at 0.6 and 1.35 nm (Fig. 3b).\\nThis observation supports a two-step ﬁlling process of the 1D\\npores. A closer look at the pore geometry by modelling the\\nsolvent-accessible surface area clearly indicates the presence of pro-\\nnounced cavities in the vicinity of the octahedral nodes (Fig. 3c).\\nThe presence of these cavities originates from the methyl functiona-\\nlization of the anthracene linker. Indeed a hypothetical isostructural\\nCOF constructed from non-functionalized anthracene linkers\\nwould lead to hexagonal pore windows with slight surface roughness\\n(Supplementary Fig. 29). The apparent bimodal pore size distri-\\nbution can therefore be explained by subsequent ﬁlling of ﬁrst the\\nsmall cavities and then the remaining pore volume.\\nInterestingly the porous properties of the SiCOFs were signiﬁ-\\ncantly inﬂuenced by the silicon source used for their synthesis.\\nNotably, when TMOS was used, the calculated SBET were only of\\n805 and 749 m2 g−1 for SiCOF–Li and SiCOF–Na, respectively.\\na\\n500\\n400\\n300\\n200\\n100\\n0\\n0.0\\n0.0\\nD(V) (cm3 A–1 g–1 STP)\\nN2 adsorbed (cm3 g–1 STP)\\n0.1\\n0\\n1\\n2\\n3\\n4\\n5\\n6\\n7\\n8\\n9\\n10\\nPore width (nm)\\n0.2\\n0.2\\n0.3\\n0.4\\n0.4\\n0.5\\n0.6\\n0.6\\n0.7\\n0.8\\n0.8\\n0.9\\n1.0\\nRelative pressure (P/P0)\\nb\\nc\\nFigure 3 | Gas sorption analysis shows the high permanent microporosity of SiCOF upon guest removal. a, The permanent microporosity of SiCOF–Li as\\nassessed by the experimental nitrogen sorption isotherm measured at 77 K. b, Experimental pore size distribution proﬁle calculated from adsorption data\\nusing the cylindrical-pore Ar-NLDFT model for silica adsorbents revealing the unusual presence, for such a one-dimensional pore system, of two apparent\\nstructural pores. c, Solvent accessible surface (blue surface, probe radius for Ar of 1.355 Å) revealing the presence of pronounced cavities at the vicinity of\\nthe octahedral nodes that will be ﬁlled ﬁrst during the adsorption process and explain the presence of the smaller pores in the pore size distribution proﬁle.\\nCarbon, hydrogen, oxygen and silicon atoms are represented as grey, white, red and yellow spheres, respectively.\\nNATURE CHEMISTRY DOI: 10.1038/NCHEM.2771\\nARTICLES\\nNATURE CHEMISTRY | ADVANCE ONLINE PUBLICATION | www.nature.com/naturechemistry\\n5\\n© 2017 Macmillan Publishers Limited, part of Springer Nature. All rights reserved.\\n'),\n",
       " Document(metadata={'source': '/home/jerome-roeser/code/jerome-roeser/11-Personal-Projects/git_repos/Experimental-Data-Digitalization/data/pdfs/cofs/nchem.2771.pdf', 'file_path': '/home/jerome-roeser/code/jerome-roeser/11-Personal-Projects/git_repos/Experimental-Data-Digitalization/data/pdfs/cofs/nchem.2771.pdf', 'page': 5, 'total_pages': 7, 'format': 'PDF 1.7', 'title': 'Anionic silicate organic frameworks constructed from hexacoordinate silicon centres', 'author': 'Jérôme Roeser', 'subject': 'Nature Chemistry (2017). doi:10.1038/nchem.2771', 'keywords': '', 'creator': 'Arbortext Advanced Print Publisher 10.0.1465/W Unicode', 'producer': 'Acrobat Distiller 8.1.0 (Windows)', 'creationDate': \"D:20170505164942+05'30'\", 'modDate': \"D:20170508154851+01'00'\", 'trapped': ''}, page_content='Furthermore a pronounced hysteresis was observed in the isotherms\\nof the networks synthesized from this silicon source (Supplementary\\nFigs 31,33). This seems to prove the beneﬁcial effect of the stoichio-\\nmetric amount of water, released upon dissolution of silica, on the\\ncrystallization of the networks compared to the crystallization in a\\nwater-free system in the case of TMOS. The morphology of the\\nSiCOF crystallites was investigated by scanning electron microscopy\\n(SEM) and conﬁrmed the important role of the silicon source\\nin the crystallization of the networks (Fig. 2e and Supplementary\\nFigs 14–16). Formation of well-deﬁned platelets that arrange into\\nspheres was observed when a controlled amount was present in the\\nsystem whereas in the case of anhydrous synthesis the network\\nformed in much denser fashion.\\nThe silicate organic frameworks therefore share characteristics of\\nCOFs and inorganic zeolites as they are covalently connected,\\nmicroporous silicon-based crystalline materials, composed of an\\nanionic framework. It should be noted that the principles of reticu-\\nlar chemistry should also apply for SiCOFs and structural variations\\nshould be possible by connecting the dianionic SiO6 nodes by differ-\\nent organic linkers. Further structure and property variations might\\nbe available by exchanging the extra-framework cations.\\nMethods\\nMaterials. Tetramethyl orthosilicate (TMOS, 98%), lithium methoxide (1.0 M in\\nanhydrous methanol), silica gel (for chromatography, pore size 60 Å, 230–400 mesh\\nparticle size, activated at 100 °C for 12 h under vacuum prior use) were obtained and\\nused as purchased from Sigma-Aldrich. Anhydrous grade solvents were used\\nthroughout (Sigma-Aldrich and Acros).\\nSynthesis of SiCOF from silica gel. A 20 ml Teﬂon-lined steel autoclave was\\ncharged with 9,10-dimethyl-2,3,6,7-tetrahydroxyanthracene (100 mg, 0.37 mmol),\\nanhydrous methanol (9.5 ml), 0.55 ml of 1.0 M lithium methoxide solution in\\nanhydrous methanol (21 mg, 0.55 mmol) and silica gel (15 mg, 0.25 mmol). The\\nautoclave was sealed and placed in an oven heated at 180 °C for four days yielding a\\nbrown-yellow powder which was collected by ﬁltration under inert atmosphere,\\nwashed with anhydrous acetone and evacuated at room temperature for 12 h (97 mg,\\n88%). Anal. Calcd for C24H15Li2O6Si: C, 65.32; H, 3.43. Found: C, 64.78; H, 3.24.\\nICP Found: 2.53 wt% (Calcd: 3.14).\\nSynthesis of SiCOF from TMOS. The exact same procedure as above was employed\\nexcept that 1 ml of a 0.25 M tetramethyl orthosilicate solution in anhydrous\\nmethanol (38 mg, 0.25 mmol) was used as a silicon source. The network was\\nobtained as a yellow powder (102 mg, 93%).\\nData availability. The authors declare that the data supporting the ﬁndings of this\\nstudy are available within the Article and its Supplementary Information ﬁles, or from\\nthe corresponding author on reasonable request.\\nReceived 26 October 2015; accepted 21 March 2017;\\npublished online 1 May 2017; corrected online 9 May 2017\\nReferences\\n1.\\nLiebau, F. Structural Chemistry of Silicates (Springer, 1985).\\n2.\\nWagler, J., Böhme, U. & Kroke, E. in Functional Molecular Silicon Compounds I\\n(ed. Scheschkewitz, D.) Structure and Bonding Vol. 155, 29–105\\n(Springer, 2014).\\n3.\\nRosenheim, A., Raibmann, B. & Schendel, G. Über innerkomplexe brenzcatechinate\\nvierwertiger elemente. Z. Anorg. Allg. Chem. 196, 160–176 (1931).\\n4.\\nFlynn, J. J. & Boer, F. P. Structural studies of hexacoordinate silicon. Tris(o-\\nphenylenedioxy) siliconate. J. Am. Chem. Soc. 91, 5756–5761 (1969).\\n5.\\nLaine, R. M. et al. Synthesis of pentacoordinate silicon complexes from SiO2.\\nNature 353, 642–644 (1991).\\n6.\\nHerreros, B., Carr, S. W. & Klinowski, J. 5-coordinate Si compounds as\\nintermediates in the synthesis of silicates in nonaqueous media. Science\\n263, 1585–1587 (1994).\\n7.\\nKinrade, S. D. et al. Stable ﬁve- and six-coordinated silicate anions in aqueous\\nsolution. Science 285, 1542–1545 (1999).\\n8.\\nSchmiederer, T. et al. The E. coli siderophores enterobactin and salmochelin\\nform six-coordinate silicon complexes at physiological pH. Angew. Chem. Int.\\nEd. 50, 4230–4233 (2011).\\n9.\\nYaghi, O. M. et al. Reticular synthesis and the design of new materials. Nature\\n423, 705–714 (2003).\\n10. Côté, A. P. et al. Porous, crystalline, covalent organic frameworks. Science\\n310, 1166–1170 (2005).\\n11. El-Kaderi, H. M. et al. Designed synthesis of 3D covalent organic frameworks.\\nScience 316, 268–272 (2007).\\n12. Feng, X., Ding, X. & Jiang, D. Covalent organic frameworks. Chem. Soc. Rev.\\n41, 6010–6022 (2012).\\n13. Blake, A. J. et al. Inorganic crystal engineering using self-assembly of tailored\\nbuilding-blocks. Coord. Chem. Rev. 183, 117–138 (1999).\\n14. Moulton, B. & Zaworotko, M. J. From molecules to crystal engineering:\\nsupramolecular isomerism and polymorphism in network solids. Chem. Rev.\\n101, 1629–1658 (2001).\\n15. Shea, K. J., Loy, D. A. & Small, J. H. Condensed aryl-bridged siliconates. New\\nladder and network ionomers. Chem. Mater. 4, 255–258 (1992).\\n16. Hahn, F. E., Keck, M. & Raymond, K. N. Catecholate complexes of silicon:\\nsynthesis and molecular and crystal structures of [Si(cat)2]·2THF and Li2[Si\\n(cat)3]·3.5dme (cat = catecholate dianion). Inorg. Chem. 34, 1402–1407 (1995).\\n17. Cella, J. A., Cargioli, J. D. & Williams, E. A. 29Si NMR of ﬁve- and six-coordinate\\norganosilicon complexes. J. Organomet. Chem. 186, 13–17 (1980).\\n18. O’Keeffe, M., Peskov, M. A., Ramsden, S. J. & Yaghi, O. M. The reticular\\nchemistry structure resource (RCSR) database of, and symbols for, crystal nets.\\nAcc. Chem. Res. 41, 1782–1789 (2008).\\n19. Materials Studio Modelling v. 5.0 (Accelrys, 2009).\\n20. Mayo, S. L., Olafson, B. D. & Goddard, W. A. DREIDING: a generic force ﬁeld\\nfor molecular simulations. J. Phys. Chem. 94, 8897–8909 (1990).\\n21. Grimme, S., Antony, J., Ehrlich, S. & Krieg, H. A consistent and accurate ab initio\\nparametrization of density functional dispersion correction (DFT-D) for the 94\\nelements H-Pu. J. Chem. Phys. 132, 154104–154119 (2010).\\n22. Valiev, M. et al. NWChem: a comprehensive and scalable open-source solution for\\nlarge scale molecular simulations. Comput. Phys. Commun. 181, 1477–1489 (2010).\\n23. Lukose, B., Kuc, A. & Heine, T. The structure of layered covalent-organic\\nframeworks. Chem. Eur. J. 17, 2388–2392 (2011).\\n24. Ascherl, L. et al. Molecular docking sites designed for the generation of highly\\ncrystalline covalent organic frameworks. Nat. Chem. 8, 310–316 (2016).\\n25. Warren, B. E. X-Ray Diffraction (Dover, 1969).\\n26. Prill, D., Juhas, P., Schmidt, M. U. & Billinge, S. J. L. Modelling pair distribution\\nfunctions (PDFs) of organic compounds: describing both intra- and\\nintermolecular correlation functions in calculated PDFs. J. Appl. Cryst.\\n48, 171–178 (2015).\\n27. Prill, D., Juhas, P., Billinge, S. J. L. & Schmidt, M. U. Towards solution and\\nreﬁnement of organic crystal structures by ﬁtting to the atomic pair distribution\\nfunction. Acta Cryst. A 72, 62–72 (2016).\\n28. Hmadeh, M. et al. New porous crystals of extended metal-catecholates. Chem.\\nMater. 24, 3511–3513 (2012).\\n29. Liu, Y. et al. Weaving of organic threads into a crystalline covalent organic\\nframework. Science 351, 365–369 (2016).\\n30. Rouquerol, J., Rouquerol, F., Llewellyn, P., Maurin, G. & Sing, K. S. W.\\nAdsorption by Powders and Porous Solids 2nd edn (Academic, 2014).\\nAcknowledgements\\nWe thank the European Research Council (ERC) for ﬁnancial support within the project\\nORGZEO (Grant Number:278593). Support from the German Science Foundation within\\nthe Cluster of Excellence UniCat-Unifying concepts in catalysis is further acknowledged.\\nM.J.B. thanks the Czech Science Foundation (GACR) for junior grant funding (CAMs: 16-\\n21151Y) and the European Research Council (ERC) for funding under the Starting Grant\\nscheme (BEGMAT: 678462). M.J.B. further acknowledges the Charles University Centre of\\nAdvanced Materials (CUCAM) (OP VVV Excellent Research Teams, project number\\nCZ.02.1.01/0.0/0.0/15_003/0000417). We thank Professor Holger Dobbek for his precious\\nhelp, Professor Matthias Driess and Dr Matthias Thommes for fruitful discussions, and Mrs.\\nChristina Eichenauer, Mrs. Maria Unterweger and Mr. Matthias Trunk for their assistance.\\nAuthor contributions\\nJ.R. and A.Th. conceived and designed the experiments. J.R. performed the experiments\\nand carried out the structural characterizations. P.F. and A.Tr. carried out the\\nDFT calculations. D.P. and M.U.S. performed the analysis of the pair-distribution function.\\nA.N.F. collected the synchrotron X-ray diffraction data. M.J.B. reﬁned the high-resolution\\nPXRD data. All the authors interpreted the structures and contributed to the preparation of\\nthe manuscript.\\nAdditional information\\nSupplementary information is available in the online version of the paper. Reprints and\\npermissions information is available online at www.nature.com/reprints. Publisher’s note:\\nSpringer Nature remains neutral with regard to jurisdictional claims in published maps and\\ninstitutional afﬁliations. Correspondence and requests for materials should be addressed to J.R.\\nand A.T.\\nCompeting ﬁnancial interests\\nThe authors declare no competing ﬁnancial interests.\\nARTICLES\\nNATURE CHEMISTRY DOI: 10.1038/NCHEM.2771\\nNATURE CHEMISTRY | ADVANCE ONLINE PUBLICATION | www.nature.com/naturechemistry\\n6\\n© 2017 Macmillan Publishers Limited, part of Springer Nature. All rights reserved.\\n'),\n",
       " Document(metadata={'source': '/home/jerome-roeser/code/jerome-roeser/11-Personal-Projects/git_repos/Experimental-Data-Digitalization/data/pdfs/cofs/nchem.2771.pdf', 'file_path': '/home/jerome-roeser/code/jerome-roeser/11-Personal-Projects/git_repos/Experimental-Data-Digitalization/data/pdfs/cofs/nchem.2771.pdf', 'page': 6, 'total_pages': 7, 'format': 'PDF 1.7', 'title': 'Anionic silicate organic frameworks constructed from hexacoordinate silicon centres', 'author': 'Jérôme Roeser', 'subject': 'Nature Chemistry (2017). doi:10.1038/nchem.2771', 'keywords': '', 'creator': 'Arbortext Advanced Print Publisher 10.0.1465/W Unicode', 'producer': 'Acrobat Distiller 8.1.0 (Windows)', 'creationDate': \"D:20170505164942+05'30'\", 'modDate': \"D:20170508154851+01'00'\", 'trapped': ''}, page_content=' \\nIn the version of this Article originally published, the space group P3–1m was incorrectly formatted in the third paragraph of page 4, \\nand in the caption of Figure 2. Furthermore, the first sentence of the main text contained typographical errors and has been corrected \\nto read: “In silicate materials, silicon sites almost exclusively adopt a tetrahedral coordination with respect to oxygen and reports of \\nsilicon containing hypercoordinate, that is, penta- or hexacoordinate silicon are very rare.” Finally, the crystallographic data for the \\nsilicate organic framework was not present in the Supplementary Information when this Article was pushed live. These corrections \\nhave been made in all versions of the Article. \\nErratum: Anionic silicate organic frameworks constructed from hexacoordinate \\nsilicon centres\\nJérôme Roeser, Dragica Prill, Michael J. Bojdys, Pierre Fayon, Abbie Trewin, Andrew N. Fitch, Martin U. Schmidt \\nand Arne Thomas\\nNature Chemistry http://dx.doi.org/10.1038/nchem.2771 (2017); published online 1 May 2017; corrected online 9 May 2017.\\n©\\n \\n2017\\n \\nM\\nacm\\nillan\\n \\nPublishers\\n \\nLim\\nited,\\n \\npart\\n \\nof\\n \\nSpringer\\n \\nNature.\\n \\nAll\\n \\nrights\\n \\nreserved.\\n')]"
      ]
     },
     "execution_count": 7,
     "metadata": {},
     "output_type": "execute_result"
    }
   ],
   "source": [
    "loader = PyMuPDFLoader(file_path= nchem_path)\n",
    "data = loader.load()\n",
    "data"
   ]
  },
  {
   "cell_type": "code",
   "execution_count": 12,
   "metadata": {},
   "outputs": [
    {
     "data": {
      "text/plain": [
       "1603"
      ]
     },
     "execution_count": 12,
     "metadata": {},
     "output_type": "execute_result"
    }
   ],
   "source": [
    "from experimental_data_digitalization.utils import num_tokens_from_string\n",
    "\n",
    "num_tokens_from_string(data[0].page_content)"
   ]
  },
  {
   "cell_type": "code",
   "execution_count": 8,
   "metadata": {},
   "outputs": [
    {
     "name": "stderr",
     "output_type": "stream",
     "text": [
      "/tmp/ipykernel_100193/1381635866.py:1: LangChainDeprecationWarning: The class `HuggingFaceEmbeddings` was deprecated in LangChain 0.2.2 and will be removed in 1.0. An updated version of the class exists in the :class:`~langchain-huggingface package and should be used instead. To use it run `pip install -U :class:`~langchain-huggingface` and import as `from :class:`~langchain_huggingface import HuggingFaceEmbeddings``.\n",
      "  embeddings = HuggingFaceEmbeddings(model_name= \"all-MiniLM-L6-v2\")\n",
      "/home/jerome-roeser/.cache/pypoetry/virtualenvs/experimental-data-digitalization-KoFsBjW7-py3.12/lib/python3.12/site-packages/sentence_transformers/cross_encoder/CrossEncoder.py:13: TqdmWarning: IProgress not found. Please update jupyter and ipywidgets. See https://ipywidgets.readthedocs.io/en/stable/user_install.html\n",
      "  from tqdm.autonotebook import tqdm, trange\n"
     ]
    }
   ],
   "source": [
    "embeddings = HuggingFaceEmbeddings(model_name= \"all-MiniLM-L6-v2\")"
   ]
  },
  {
   "cell_type": "code",
   "execution_count": 9,
   "metadata": {},
   "outputs": [],
   "source": [
    "text_splitter = RecursiveCharacterTextSplitter(chunk_size=512, chunk_overlap=50)\n",
    "docs = text_splitter.split_documents(data)"
   ]
  },
  {
   "cell_type": "code",
   "execution_count": 14,
   "metadata": {},
   "outputs": [
    {
     "data": {
      "text/plain": [
       "Document(metadata={'source': '/home/jerome-roeser/code/jerome-roeser/11-Personal-Projects/git_repos/Experimental-Data-Digitalization/data/pdfs/cofs/nchem.2771.pdf', 'file_path': '/home/jerome-roeser/code/jerome-roeser/11-Personal-Projects/git_repos/Experimental-Data-Digitalization/data/pdfs/cofs/nchem.2771.pdf', 'page': 0, 'total_pages': 7, 'format': 'PDF 1.7', 'title': 'Anionic silicate organic frameworks constructed from hexacoordinate silicon centres', 'author': 'Jérôme Roeser', 'subject': 'Nature Chemistry (2017). doi:10.1038/nchem.2771', 'keywords': '', 'creator': 'Arbortext Advanced Print Publisher 10.0.1465/W Unicode', 'producer': 'Acrobat Distiller 8.1.0 (Windows)', 'creationDate': \"D:20170505164942+05'30'\", 'modDate': \"D:20170508154851+01'00'\", 'trapped': ''}, page_content='demonstrate the simple one-pot synthesis of silicate organic frameworks based on octahedral dianionic SiO6 building units.\\nClear evidence of the hexacoordinate environment around the silicon atoms is given by 29Si nuclear magnetic resonance\\nanalysis. Characterization by high-resolution powder X-ray diffraction, density functional theory calculation and analysis of\\nthe pair-distribution function showed that those anionic frameworks—M2[Si(C16H10O4)1.5], where M = Li, Na, K and C16H10O4')"
      ]
     },
     "execution_count": 14,
     "metadata": {},
     "output_type": "execute_result"
    }
   ],
   "source": [
    "docs[1]"
   ]
  },
  {
   "cell_type": "code",
   "execution_count": 15,
   "metadata": {},
   "outputs": [
    {
     "data": {
      "text/plain": [
       "['digitalization']"
      ]
     },
     "execution_count": 15,
     "metadata": {},
     "output_type": "execute_result"
    }
   ],
   "source": [
    "vectorstore = Milvus.from_documents(\n",
    "    documents=docs,\n",
    "    embedding=embeddings,\n",
    "    collection_name=\"digitalization\",\n",
    "    connection_args={\"uri\": './milvus_demo.db'}\n",
    "    )\n",
    "client.drop_collection('rag_milvus_webinar')\n",
    "client.list_collections()"
   ]
  },
  {
   "cell_type": "code",
   "execution_count": 16,
   "metadata": {},
   "outputs": [
    {
     "data": {
      "text/plain": [
       "[Document(metadata={'author': 'Jérôme Roeser', 'creationDate': \"D:20170505164942+05'30'\", 'creator': 'Arbortext Advanced Print Publisher 10.0.1465/W Unicode', 'file_path': '/home/jerome-roeser/code/jerome-roeser/11-Personal-Projects/git_repos/Experimental-Data-Digitalization/data/pdfs/cofs/nchem.2771.pdf', 'format': 'PDF 1.7', 'keywords': '', 'modDate': \"D:20170508154851+01'00'\", 'page': 5, 'pk': 453558599605813312, 'producer': 'Acrobat Distiller 8.1.0 (Windows)', 'source': '/home/jerome-roeser/code/jerome-roeser/11-Personal-Projects/git_repos/Experimental-Data-Digitalization/data/pdfs/cofs/nchem.2771.pdf', 'subject': 'Nature Chemistry (2017). doi:10.1038/nchem.2771', 'title': 'Anionic silicate organic frameworks constructed from hexacoordinate silicon centres', 'total_pages': 7, 'trapped': ''}, page_content='423, 705–714 (2003).\\n10. Côté, A. P. et al. Porous, crystalline, covalent organic frameworks. Science\\n310, 1166–1170 (2005).\\n11. El-Kaderi, H. M. et al. Designed synthesis of 3D covalent organic frameworks.\\nScience 316, 268–272 (2007).\\n12. Feng, X., Ding, X. & Jiang, D. Covalent organic frameworks. Chem. Soc. Rev.\\n41, 6010–6022 (2012).\\n13. Blake, A. J. et al. Inorganic crystal engineering using self-assembly of tailored\\nbuilding-blocks. Coord. Chem. Rev. 183, 117–138 (1999).')]"
      ]
     },
     "execution_count": 16,
     "metadata": {},
     "output_type": "execute_result"
    }
   ],
   "source": [
    "query = \"What is a COvalent Organic Framework?\"\n",
    "res = vectorstore.similarity_search(query, k=1)\n",
    "res"
   ]
  },
  {
   "cell_type": "code",
   "execution_count": 19,
   "metadata": {},
   "outputs": [
    {
     "data": {
      "text/plain": [
       "10055"
      ]
     },
     "execution_count": 19,
     "metadata": {},
     "output_type": "execute_result"
    }
   ],
   "source": [
    "from langchain_core.runnables import RunnablePassthrough\n",
    "from langchain_core.prompts import PromptTemplate\n",
    "from langchain_core.output_parsers import StrOutputParser\n",
    "from langchain_openai import ChatOpenAI\n",
    "\n",
    "\n",
    "PROMPT_TEMPLATE = \"\"\"\n",
    "Human: You are an AI assistant, and provides answers to questions by using fact based and statistical information when possible.\n",
    "Use the following pieces of information to provide a concise answer to the question enclosed in <question> tags.\n",
    "If you don't know the answer, just say that you don't know, don't try to make up an answer.\n",
    "<context>\n",
    "{context}\n",
    "</context>\n",
    "\n",
    "<question>\n",
    "{question}\n",
    "</question>\n",
    "\n",
    "The response should be specific and use statistics or numbers when possible.\n",
    "\n",
    "Assistant:\"\"\"\n",
    "\n",
    "prompt = PromptTemplate(\n",
    "    template=PROMPT_TEMPLATE, input_variables=[\"context\", \"question\"]\n",
    ")\n",
    "\n",
    "llm = ChatOpenAI(model_name=\"gpt-3.5-turbo\", temperature=0)\n",
    "retriever = vectorstore.as_retriever()\n",
    "\n",
    "\n",
    "def format_docs(docs):\n",
    "    return \"\\n\\n\".join(doc.page_content for doc in docs)\n",
    "\n",
    "def count_tokens(docs) -> int:\n",
    "    return sum([num_tokens_from_string(doc.page_content) for doc in docs])\n",
    "\n",
    "formatted_docs = format_docs(docs)\n",
    "count_tokens(docs)"
   ]
  },
  {
   "cell_type": "code",
   "execution_count": 24,
   "metadata": {},
   "outputs": [
    {
     "name": "stdout",
     "output_type": "stream",
     "text": [
      "In this research study, a total of 5 distinct COFs are reported. Here is a structured output of the COFs along with their names and specific surface areas:\n",
      "\n",
      "1. COF-1: Specific surface area - 800 m^2/g\n",
      "2. COF-2: Specific surface area - 750 m^2/g\n",
      "3. COF-3: Specific surface area - 820 m^2/g\n",
      "4. COF-4: Specific surface area - 780 m^2/g\n",
      "5. COF-5: Specific surface area - 790 m^2/g\n"
     ]
    }
   ],
   "source": [
    "rag_chain = (\n",
    "    {\"context\": retriever | format_docs, \"question\": RunnablePassthrough()}\n",
    "    | prompt\n",
    "    | llm\n",
    "    | StrOutputParser()\n",
    ")\n",
    "\n",
    "query = \"HOw many distinct COFs are reported in this research study? if there are some list them in a structured output along with their name and their specific surface area\"\n",
    "res = rag_chain.invoke(query)\n",
    "print(res)"
   ]
  },
  {
   "cell_type": "code",
   "execution_count": null,
   "metadata": {},
   "outputs": [],
   "source": []
  }
 ],
 "metadata": {
  "kernelspec": {
   "display_name": "experimental-data-digitalization-KoFsBjW7-py3.12",
   "language": "python",
   "name": "python3"
  },
  "language_info": {
   "codemirror_mode": {
    "name": "ipython",
    "version": 3
   },
   "file_extension": ".py",
   "mimetype": "text/x-python",
   "name": "python",
   "nbconvert_exporter": "python",
   "pygments_lexer": "ipython3",
   "version": "3.12.3"
  }
 },
 "nbformat": 4,
 "nbformat_minor": 2
}
